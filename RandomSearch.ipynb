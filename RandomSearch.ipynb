{
 "cells": [
  {
   "cell_type": "markdown",
   "metadata": {},
   "source": [
    "# 1. Randomizációs módszerek\n",
    "## Definíciók\n",
    "Ezek a függvények az általam vizsgált problémához vannak."
   ]
  },
  {
   "cell_type": "code",
   "execution_count": 2,
   "metadata": {},
   "outputs": [],
   "source": [
    "import numpy as np\n",
    "import cvxpy as cp # kvázi-konvex program\n",
    "import matplotlib.pyplot as plt"
   ]
  },
  {
   "cell_type": "markdown",
   "metadata": {},
   "source": [
    "Ellenőrző függvény"
   ]
  },
  {
   "cell_type": "code",
   "execution_count": 3,
   "metadata": {},
   "outputs": [],
   "source": [
    "e =[0,0,0,0,0,0,0]\n",
    "def check(par,e):\n",
    "  if(par[0]**(-par[1]+par[4]) + par[0]**(-(3-2*par[1])+par[4]) > 1): e[0]+=1; return False # Step3 módosítások (f, n) \n",
    "\n",
    "  if(par[0]**(-1+par[5]) + par[0]**(-(1+par[1]-par[2]-par[5])) > 1): e[1]+=1; return False # Step3 módosítások (f, n)\n",
    "\n",
    "  if(par[0]**(-1-par[5]) + par[0]**(-2) + par[0]**(-(2+par[1]-par[2])) > 1) : e[2]+=1;return False # 3.1.\n",
    "  if(par[0]**(-1) + par[0]**(-2-par[5]) + par[0]**(-(2+par[1]-par[2]))) > 1: e[2]+=1;return False # Step3 módosítások (f, n) 3.2.\n",
    "  if(par[0]**(-1-par[4]) + par[0]**(-2) + par[0]**(-(2+par[1]-par[2])) > 1) : e[2]+=1;return False # 3.3.\n",
    "\n",
    "  if(par[0]**(-par[3]) + par[0]**(-(par[3]+2*par[2])) > 1): e[3]+=1;return False # alap\n",
    "  if(par[0]**(-par[3]) + par[0]**(-(par[3]+par[2])) + par[0]**(-(par[3]+3*par[2])) > 1): e[4]+=1;return False # alap\n",
    "  if(par[0]**(-par[3]) + par[0]**(-(par[3]+par[2])) + par[0]**(-(par[3]+2*par[2])) + par[0]**(-(par[3]+4*par[2])) > 1): e[5]+=1;return False # alap\n",
    "  if(par[0]**(-par[3]) + par[0]**(-(par[3]+5*min(1-par[1],par[2]-par[3]))) > 1): e[6]+=1;return False # alap\n",
    "  return True"
   ]
  },
  {
   "cell_type": "markdown",
   "metadata": {},
   "source": [
    "Algoritmus futtatása sokszor"
   ]
  },
  {
   "cell_type": "code",
   "execution_count": 4,
   "metadata": {},
   "outputs": [],
   "source": [
    "def iteration(algorithm,perturb,check,d,eps,delta,maxcnt,parameters,out,ins,bool=True,onlybestplot=False,specpars=None):\n",
    "  plots=[]\n",
    "  if(onlybestplot):\n",
    "    bests=[3]\n",
    "  else:\n",
    "    bests=[]\n",
    "  for _ in range(out): # a külső ciklusban mindent újrakezdünk\n",
    "    plot=[parameters]\n",
    "    best=[3,0,0,0,0,0]\n",
    "    tpar=parameters.copy() # ne írja át mindig az eredeti változót\n",
    "    for _ in range(ins): # a belső ciklusban az előző eredményből indulunk, ha az javított\n",
    "      result=algorithm(tpar,perturb,check, d, eps, delta, maxcnt,bool,specpars)\n",
    "      if(result[0][0]<=best[0]): \n",
    "        plot= plot+result[1]\n",
    "        best=result[0]\n",
    "        tpar=best\n",
    "    # belső ciklus vége\n",
    "    if(not onlybestplot): # ha nem csak a legjobb kell, akkor mindet feljegyezzük\n",
    "      bests.append(best)\n",
    "      plots.append(plot)\n",
    "    else:\n",
    "      if(best[0]<bests[0]):\n",
    "        bests=best\n",
    "        plots=plot\n",
    "  # külső ciklus vége\n",
    "  opt=[3]\n",
    "  if(not onlybestplot):\n",
    "    for i in bests:\n",
    "      if(i[0]<opt[0]):opt=i\n",
    "    return [opt,bests,plots]\n",
    "  else:\n",
    "    if(bests[0]<opt[0]):opt=bests\n",
    "    return [opt,bests,[plots]]"
   ]
  },
  {
   "cell_type": "markdown",
   "metadata": {},
   "source": [
    "Preparameter tuning"
   ]
  },
  {
   "cell_type": "code",
   "execution_count": 5,
   "metadata": {},
   "outputs": [],
   "source": [
    "def pretune(d,eps,delta,maxcnt,alg,check,perturb,param,ifplot=False,onlybestplot=False,specpars=None):\n",
    "    bestparam=[3]\n",
    "    plots=[]\n",
    "    for i in d:\n",
    "        for e in eps:\n",
    "            for j in delta:\n",
    "                for c in maxcnt:\n",
    "                    res=iteration(alg,perturb,check,i,e,j,c,param,1,1,False,onlybestplot,specpars)\n",
    "                    if(ifplot):\n",
    "                      if (not onlybestplot):\n",
    "                        plots.append(res[2])\n",
    "                      if (res[0][0]<bestparam[-1]):\n",
    "                        bestparam=[i,e,j,c,res[0][0]]\n",
    "                        if(onlybestplot):\n",
    "                            plots=res[2]\n",
    "                    else:\n",
    "                        if (res[0][0]<bestparam[-1]):\n",
    "                            bestparam=[i,e,j,c,res[0][0]]\n",
    "    if(not ifplot):\n",
    "        return bestparam\n",
    "    else:\n",
    "        return [bestparam,plots]"
   ]
  },
  {
   "cell_type": "markdown",
   "metadata": {},
   "source": [
    "Plot függvény"
   ]
  },
  {
   "cell_type": "code",
   "execution_count": 14,
   "metadata": {},
   "outputs": [],
   "source": [
    "from sklearn.preprocessing import MinMaxScaler\n",
    "def plotfunction(result,hynames=[],plotonlyx=True):\n",
    "  scaler = MinMaxScaler()\n",
    "  if(plotonlyx):\n",
    "     plt.figure()  # Új ábra\n",
    "     for j in range(len(result)):\n",
    "      data = [row[0] for row in result[j]]\n",
    "      #original_x = np.arange(len(data)).reshape(-1, 1)\n",
    "      #scaled_x = MinMaxScaler().fit_transform(original_x)\n",
    "      #scaled_x = scaled_x.flatten()\n",
    "      #plt.plot(scaled_x, data, linewidth=0.8)\n",
    "      plt.plot(data, linewidth=0.8)\n",
    "      plt.xlabel(\"Iterációk\")\n",
    "      plt.ylabel(f\"{names[0]} értékek\")\n",
    "      #plt.title(f\"Grafikon {i+1}\")\n",
    "      plt.legend(hynames, loc='upper right')\n",
    "      plt.grid()\n",
    "  else:\n",
    "    for i in range(len(result[0][0])):\n",
    "      plt.figure()  # Új ábra minden oszlophoz\n",
    "      for j in range(len(result)):\n",
    "          plt.plot([row[i] for row in result[j]])  # Oszlop értékei\n",
    "      plt.xlabel(\"Iterációk\")\n",
    "      plt.ylabel(f\"{names[i]} értékek\")\n",
    "      #plt.title(f\"Grafikon {i+1}\")\n",
    "      plt.legend(hynames)\n",
    "      plt.grid()\n",
    "  plt.show()"
   ]
  },
  {
   "cell_type": "markdown",
   "metadata": {},
   "source": [
    "## 1.1 Minden változót egyszerre randomizálva"
   ]
  },
  {
   "cell_type": "markdown",
   "metadata": {},
   "source": [
    "### Randomizáló függvény"
   ]
  },
  {
   "cell_type": "code",
   "execution_count": 6,
   "metadata": {},
   "outputs": [],
   "source": [
    "def perturb1(parameters, d, specpars=None):\n",
    "  outp=parameters.copy()\n",
    "  if specpars==None:\n",
    "    for i in range(0,len(parameters)):\n",
    "      outp[i]=parameters[i] + np.random.uniform(-d,d)\n",
    "  else:\n",
    "    for i in range(0,len(parameters)):\n",
    "      if(i in specpars):\n",
    "        outp[i]=parameters[i] + np.random.uniform(-d,d)\n",
    "  return outp"
   ]
  },
  {
   "cell_type": "code",
   "execution_count": 12,
   "metadata": {},
   "outputs": [],
   "source": [
    "def checkall(temp):\n",
    "    return (0<=temp[0]<=3 and 0<=temp[1]<= 1 and 0<=temp[2] <= 1 and 0<=temp[3] <= 1 and 1>=temp[4] >= 0 and 1>=temp[5] >= 0 \n",
    "      and temp[1] >= temp[2] and temp[2] >= temp[3] and check(temp,e))"
   ]
  },
  {
   "cell_type": "markdown",
   "metadata": {},
   "source": [
    "### Algoritmus 1.1.1."
   ]
  },
  {
   "cell_type": "code",
   "execution_count": 8,
   "metadata": {},
   "outputs": [],
   "source": [
    "def algorithm11(parameters,perturb,checkall, d, eps, delta, maxcnt,ifcnt0=False,specpars=None):\n",
    "  outp=parameters.copy()\n",
    "  plot=[]\n",
    "  cnt = 0\n",
    "  while(d>eps):\n",
    "    temp = perturb(outp, d,specpars)\n",
    "    if (checkall(temp)):\n",
    "      outp=temp.copy()\n",
    "      plot.append(temp.copy())\n",
    "      if(ifcnt0): cnt= 0\n",
    "    else: cnt+=1\n",
    "    if(cnt >= maxcnt): d = d*delta; cnt = 0\n",
    "  return [outp,plot]"
   ]
  },
  {
   "cell_type": "markdown",
   "metadata": {},
   "source": [
    "### Paraméterek"
   ]
  },
  {
   "cell_type": "code",
   "execution_count": 9,
   "metadata": {},
   "outputs": [],
   "source": [
    "parameters=[2,1,1,1,0,0]\n",
    "names=[\"λ\",\"alpha\",\"beta\",\"gamma\",\"nu\",\"mu\"]\n",
    "d=0.1\n",
    "eps=1e-3\n",
    "delta=0.2\n",
    "maxcnt=1e4"
   ]
  },
  {
   "cell_type": "code",
   "execution_count": 13,
   "metadata": {},
   "outputs": [
    {
     "data": {
      "text/plain": [
       "True"
      ]
     },
     "execution_count": 13,
     "metadata": {},
     "output_type": "execute_result"
    }
   ],
   "source": [
    "checkall(parameters) # ellenőrzés"
   ]
  },
  {
   "cell_type": "markdown",
   "metadata": {},
   "source": [
    "### Algoritmus futtatása"
   ]
  },
  {
   "cell_type": "markdown",
   "metadata": {},
   "source": [
    "Ha a változók felsőkorlátja vagy alsókorlátja éppen a kezdeti érték, akkor nem talál megoldást. Ha fölvisszük nagy értékkel, akkor lassúnak bizonyul. Megoldás lehet csak egy darabig engedni az algoritmut, hogy elszálljanak az értékei, és utána újrakezdeni a jelenlegi d értékkel. Ehhez egy Lagrange-szerű enyhítő függvény lehet megoldás."
   ]
  },
  {
   "cell_type": "markdown",
   "metadata": {},
   "source": [
    "### Relaxált"
   ]
  },
  {
   "cell_type": "code",
   "execution_count": 15,
   "metadata": {},
   "outputs": [],
   "source": [
    "def lagrange(parameters):\n",
    "    l = 0 \n",
    "    for i in range(1,4):\n",
    "        if(parameters[i]>1): l+=(parameters[i]-1)\n",
    "    return l"
   ]
  },
  {
   "cell_type": "markdown",
   "metadata": {},
   "source": [
    "### Algoritmus 1.1.2"
   ]
  },
  {
   "cell_type": "code",
   "execution_count": 16,
   "metadata": {},
   "outputs": [],
   "source": [
    "def algorithm12(parameters,perturb,che, d, eps, delta, maxcnt,ifcnt0=True,specpars=None):\n",
    "  outp=parameters.copy()\n",
    "  plot=[]\n",
    "  cnt = 0\n",
    "  while(d>eps):\n",
    "    if lagrange(outp)>1:\n",
    "      outp=parameters.copy()\n",
    "    temp = perturb(outp, d,specpars)\n",
    "    if (0<temp[0]<3 and 0<temp[1]< 2 and 0<temp[2] < 2 and 0<temp[3] < 2 and 1>temp[4] > 0 and 1>temp[5] > 0 \n",
    "      and temp[1] > temp[2] and temp[2] > temp[3] and check(temp,e)):\n",
    "      outp=temp.copy()\n",
    "      plot.append(temp.copy())\n",
    "      if(ifcnt0==True): cnt= 0\n",
    "    else: cnt+=1\n",
    "    if(cnt >= maxcnt): d = d*delta; cnt = 0\n",
    "  return [outp,plot]"
   ]
  },
  {
   "cell_type": "markdown",
   "metadata": {},
   "source": [
    "Ez nagyjából olyan eredményeket ad, mint az előző algoritmus"
   ]
  },
  {
   "cell_type": "markdown",
   "metadata": {},
   "source": [
    "Tehát ez a módszer sem elég jó. 38 perc alatt a legjobb eredmény 2.20645 lett. Tehát x értéke a kezdeti kettőnél nem tud kisebb lenne. Egy ötlet lehet, hogy x válozóját nem növeljük sosem, csak csökkentjük, és így próbáljuk meg javítani."
   ]
  },
  {
   "cell_type": "markdown",
   "metadata": {},
   "source": [
    "# 1.2. Randomizálás változtatása"
   ]
  },
  {
   "cell_type": "markdown",
   "metadata": {},
   "source": [
    "Tehát első ötlet: csak az x célváltozót korlátozzuk; sose növeljük. Viszont nem 2-ről indítjuk, hanem 2.5-ről."
   ]
  },
  {
   "cell_type": "markdown",
   "metadata": {},
   "source": [
    "### Új randomizáló függvény"
   ]
  },
  {
   "cell_type": "code",
   "execution_count": 17,
   "metadata": {},
   "outputs": [],
   "source": [
    "def perturb2(parameters, d,specpars=None):\n",
    "  outp=parameters.copy()\n",
    "  outp[0]=parameters[0]+np.random.uniform(-d,0) # x-et külön kezeljük\n",
    "  if specpars==None:\n",
    "    for i in range(1,len(parameters)):\n",
    "      outp[i]=parameters[i] + np.random.uniform(-d,d)\n",
    "  else:\n",
    "    for i in range(1,len(parameters)):\n",
    "      if(i in specpars):\n",
    "        outp[i]=parameters[i] + np.random.uniform(-d,d)\n",
    "  return outp\n",
    "\n",
    "parameters[0]=2.5 # innen menjünk lefele"
   ]
  },
  {
   "cell_type": "markdown",
   "metadata": {},
   "source": [
    "Ez a módszer nagyon jó! Kevesebb, mint 4 perc alatt 1.99599."
   ]
  },
  {
   "cell_type": "markdown",
   "metadata": {},
   "source": [
    "## Algoritmus 1.2.1"
   ]
  },
  {
   "cell_type": "markdown",
   "metadata": {},
   "source": [
    "A következő ötlet megállni és csak egyes paramétereket változtatni x mellett."
   ]
  },
  {
   "cell_type": "code",
   "execution_count": 18,
   "metadata": {},
   "outputs": [],
   "source": [
    "def perturbj(parameters, d, j,specpars=None): # az egyiket permutáljuk\n",
    "  outp=parameters.copy()\n",
    "  if j!=0:\n",
    "    outp[j]=outp[j]+ np.random.uniform(-d,d)\n",
    "    outp[0]=outp[0]+ np.random.uniform(-d,0)\n",
    "  else:\n",
    "    outp[j]=outp[j]+ np.random.uniform(-d,0)\n",
    "  return outp"
   ]
  },
  {
   "cell_type": "code",
   "execution_count": 19,
   "metadata": {},
   "outputs": [],
   "source": [
    "def algorithm21(parameters,perturbj,check, d, eps, delta, maxcnt,ifcnt0=True,specpars=None):\n",
    "  outp=parameters.copy()\n",
    "  plot=[]\n",
    "  j=0\n",
    "  cnt=0\n",
    "  while(d>eps):\n",
    "    helper0=j/len(outp)\n",
    "    helper1=(j+1)/len(outp)\n",
    "    temp = perturbj(outp, d, j,specpars)\n",
    "    cnt+=1\n",
    "    if (check(temp)):\n",
    "      outp=temp.copy()\n",
    "      plot.append(temp.copy())\n",
    "      if(ifcnt0):\n",
    "        cnt=helper0*maxcnt\n",
    "    if(cnt >= maxcnt*helper1): j+=1\n",
    "    if(cnt >= maxcnt): d = d*delta; cnt = 0; j=0\n",
    "  return [outp,plot]"
   ]
  },
  {
   "cell_type": "markdown",
   "metadata": {},
   "source": [
    "#### Nem rossz, de nem olyan hatékony, mint az előző."
   ]
  },
  {
   "cell_type": "markdown",
   "metadata": {},
   "source": [
    "Egyszerre kettőket változtatva"
   ]
  },
  {
   "cell_type": "code",
   "execution_count": 20,
   "metadata": {},
   "outputs": [],
   "source": [
    "def perturbjj(parameters, d, j,specpars=None): # az egyiket permutáljuk\n",
    "  outp=parameters.copy()\n",
    "  if j!=0 and j!=len(parameters)-1:\n",
    "    outp[j]=outp[j]+ np.random.uniform(-d,d)\n",
    "    outp[j+1]=outp[j+1]+ np.random.uniform(-d,d)\n",
    "  elif j==len(parameters)-1:\n",
    "    outp[j]=outp[j]+ np.random.uniform(-d,d)\n",
    "    outp[1]=outp[1]+ np.random.uniform(-d,d)\n",
    "  else:\n",
    "    outp[j]=outp[j]+ np.random.uniform(-d,0)\n",
    "  return outp"
   ]
  },
  {
   "cell_type": "markdown",
   "metadata": {},
   "source": [
    "Egymás után kettőt változtatva nem lett jobb."
   ]
  },
  {
   "cell_type": "markdown",
   "metadata": {},
   "source": [
    "Tömbönként változtatva"
   ]
  },
  {
   "cell_type": "code",
   "execution_count": 21,
   "metadata": {},
   "outputs": [],
   "source": [
    "def perturbspecialchanges(parameters, d, j,specpars=None): # a hasonlóakat permutáljuk\n",
    "  outp=parameters.copy()\n",
    "  if (j!=4 and j!=5) and j!=0:\n",
    "    outp[1]=outp[1]+ np.random.uniform(-d,d)\n",
    "    outp[2]=outp[2]+ np.random.uniform(-d,d)\n",
    "    outp[3]=outp[3]+ np.random.uniform(-d,d)\n",
    "  elif j==4 or j==5:\n",
    "    outp[4]=outp[4]+ np.random.uniform(-d,d)\n",
    "    outp[5]=outp[5]+ np.random.uniform(-d,d)\n",
    "  else:\n",
    "    outp[j]=outp[j]+ np.random.uniform(-d,0)\n",
    "  return outp"
   ]
  },
  {
   "cell_type": "markdown",
   "metadata": {},
   "source": [
    "Ez már nem rossz.\n",
    "#### De új algoritmus lehet jobb. Megpróbálni véletlen sorrendben véltoztatni a paramétertömböket"
   ]
  },
  {
   "cell_type": "code",
   "execution_count": 22,
   "metadata": {},
   "outputs": [],
   "source": [
    "def algorithm22(parameters,perturbspecial,check, d, eps, delta, maxcnt,ifcnt0=True,specpars=None):\n",
    "  outp=parameters.copy()\n",
    "  plot=[]\n",
    "  j=1\n",
    "  cnt=0\n",
    "  while(d>eps):\n",
    "    temp = perturbspecial(outp, d, j,specpars)\n",
    "    cnt+=1\n",
    "    if (check(temp)):\n",
    "      outp=temp.copy()\n",
    "      plot.append(temp.copy())\n",
    "      if(ifcnt0):\n",
    "        cnt=0\n",
    "    if(cnt >= maxcnt/2): j=0\n",
    "    if(cnt >= maxcnt): d = d*delta; cnt = 0; j=1\n",
    "  return [outp,plot]"
   ]
  },
  {
   "cell_type": "markdown",
   "metadata": {},
   "source": [
    "Ez hasonlóan jó eredményt ad.\n",
    "#### Most nézzük azt az opció, hogy x-et nem csak a többi paramétertől külön változtatjuk"
   ]
  },
  {
   "cell_type": "code",
   "execution_count": 23,
   "metadata": {},
   "outputs": [],
   "source": [
    "def perturbspecialchanges2(parameters, d, j,specpars=None): # a hasonlóakat permutáljuk és x-et változtatjuk\n",
    "  outp=parameters.copy()\n",
    "  if (j==1):\n",
    "    outp[1]=outp[1]+ np.random.uniform(-d,d)\n",
    "    outp[2]=outp[2]+ np.random.uniform(-d,d)\n",
    "    outp[3]=outp[3]+ np.random.uniform(-d,d)\n",
    "    outp[0]=outp[0]+ np.random.uniform(-d,0)\n",
    "  if (j==0):\n",
    "    outp[4]=outp[4]+ np.random.uniform(-d,d)\n",
    "    outp[5]=outp[5]+ np.random.uniform(-d,d)\n",
    "    outp[0]=outp[0]+ np.random.uniform(-d,0)\n",
    "  return outp"
   ]
  },
  {
   "cell_type": "markdown",
   "metadata": {},
   "source": [
    "Ez a dolog nem vált be. Használjunk itt is randomizálást!"
   ]
  },
  {
   "cell_type": "code",
   "execution_count": 44,
   "metadata": {},
   "outputs": [],
   "source": [
    "def algorithm23(parameters,perturbj, check,d, eps, delta, maxcnt,ifcnt0=True,specpars=None):\n",
    "  outp=parameters.copy()\n",
    "  plot=[]\n",
    "  cnt=0\n",
    "  while(d>eps):\n",
    "      j=np.random.randint(0,len(parameters)-1) # random választunk\n",
    "      cnti = 0\n",
    "      dd=d\n",
    "      while(dd>eps): # itt permutáljuk az egyiket\n",
    "        temp = perturbj(outp, d, j,specpars)\n",
    "        if (check(temp)):\n",
    "          outp=temp.copy()\n",
    "          plot.append(temp.copy())\n",
    "          if(ifcnt0==True): \n",
    "            if(j==0): cnt=0 # ÚJ!\n",
    "        else: cnti+=1\n",
    "        if(cnti >= maxcnt): dd = dd*delta; cnti = 0\n",
    "      cnt+=1\n",
    "      if(cnt >= 10): d = d*delta; cnt = 0\n",
    "  return [outp,plot]"
   ]
  },
  {
   "cell_type": "markdown",
   "metadata": {},
   "source": [
    "## Eddig az egyszerű perturb2 működött a legjobban, de ezen talán lehet javítani\n",
    "### Új perturb ötlet: d ne legyen fix minden változóhoz."
   ]
  },
  {
   "cell_type": "code",
   "execution_count": 58,
   "metadata": {},
   "outputs": [],
   "source": [
    "def perturb3(parameters, d, balance):\n",
    "  outp=parameters.copy()\n",
    "  outp[0]=parameters[0]+np.random.uniform(-d,0) # x-et külön kezeljük\n",
    "  difference=[]\n",
    "  for i in range(1,len(parameters)):\n",
    "    modify1=np.random.normal(balance[i-1],d)\n",
    "    modify2=np.random.normal(balance[i-1],d)\n",
    "    if(modify1-modify2<2):\n",
    "      diff=np.random.uniform(-d+modify1*d,d+modify2*d)\n",
    "      outp[i]=parameters[i] + diff\n",
    "      difference.append(diff*d)\n",
    "    else:\n",
    "      diff=np.random.uniform(-d+modify1/(modify1-modify2)*d,d+modify2/(modify1-modify2)*d)\n",
    "      outp[i]=parameters[i] + diff\n",
    "      difference.append(diff*d)\n",
    "  return [outp,difference]"
   ]
  },
  {
   "cell_type": "code",
   "execution_count": 59,
   "metadata": {},
   "outputs": [],
   "source": [
    "def algorithm3(parameters,perturb,check,balance, d, eps, delta, maxcnt,ifcnt0=True):\n",
    "  outp=parameters.copy()\n",
    "  plot=[]\n",
    "  cnt = 0\n",
    "  while(d>eps):\n",
    "    tempw = perturb(outp, d, balance)\n",
    "    temp=tempw[0]\n",
    "    if (check(temp)):\n",
    "      outp=temp.copy()\n",
    "      plot.append(temp.copy())\n",
    "      balance = [x + y for x, y in zip(balance, tempw[1])]\n",
    "      if(ifcnt0==True): cnt= 0\n",
    "    else: cnt+=1\n",
    "    if(cnt >= maxcnt): d = d*delta; cnt = 0\n",
    "  return [outp,plot,balance]"
   ]
  },
  {
   "cell_type": "code",
   "execution_count": 60,
   "metadata": {},
   "outputs": [],
   "source": [
    "def iterationnew(algorithm,perturb,check,balance,d,eps,delta,maxcnt,parameters,out,ins,bool=True,onlybestplot=False):\n",
    "  plots=[]\n",
    "  if(onlybestplot):\n",
    "    bests=[3]\n",
    "  else:\n",
    "    bests=[]\n",
    "  for _ in range(out): # a külső ciklusban mindent újrakezdünk\n",
    "    plot=[parameters]\n",
    "    best=[3,0,0,0,0,0]\n",
    "    bal=balance.copy()\n",
    "    tpar=parameters.copy() # ne írja át mindig az eredeti változót\n",
    "    for _ in range(ins): # a belső ciklusban az előző eredményből indulunk, ha az javított\n",
    "      result=algorithm(tpar,perturb,check,bal, d, eps, delta, maxcnt,bool)\n",
    "      if(result[0][0]<=best[0]): \n",
    "        plot= plot+result[1]\n",
    "        best=result[0]\n",
    "        tpar=best\n",
    "        bal=result[2]\n",
    "    # belső ciklus vége\n",
    "    if(not onlybestplot): # ha nem csak a legjobb kell, akkor mindet feljegyezzük\n",
    "      bests.append(best)\n",
    "      plots.append(plot)\n",
    "    else:\n",
    "      if(best[0]<bests[0]):\n",
    "        bests=best\n",
    "        plots=plot\n",
    "  # külső ciklus vége\n",
    "  opt=[3]\n",
    "  if(not onlybestplot):\n",
    "    for i in bests:\n",
    "      if(i[0]<opt[0]):opt=i\n",
    "    return [opt,bests,plots]\n",
    "  else:\n",
    "    if(bests[0]<opt[0]):opt=bests\n",
    "    return [opt,bests,[plots]]"
   ]
  },
  {
   "cell_type": "code",
   "execution_count": 61,
   "metadata": {},
   "outputs": [],
   "source": [
    "def pretunenew(x,d,eps,delta,maxcnt,alg,check,balance,perturb,param,ifplot=False,onlybestplot=False,ifcnt0=False):\n",
    "    bestparam=[3]\n",
    "    plots=[]\n",
    "    for l in x:\n",
    "      for i in d:\n",
    "        for e in eps:\n",
    "            for j in delta:\n",
    "                for c in maxcnt:\n",
    "                    param[0]=l\n",
    "                    res=iterationnew(alg,perturb,check,balance,i,e,j,c,param,1,1,ifcnt0,onlybestplot)\n",
    "                    if(ifplot):\n",
    "                        if (res[0][0]<bestparam[-1]):\n",
    "                            bestparam=[l,i,e,j,c,res[0][0]]\n",
    "                            if (onlybestplot):\n",
    "                                plots=res[2]\n",
    "                        if(not onlybestplot):\n",
    "                            plots.append(res[2])\n",
    "                    else:\n",
    "                        if (res[0][0]<bestparam[-1]):\n",
    "                            bestparam=[l,i,e,j,c,res[0][0]]\n",
    "    if(not ifplot):\n",
    "        return bestparam\n",
    "    else:\n",
    "        return [bestparam,plots]"
   ]
  },
  {
   "cell_type": "markdown",
   "metadata": {},
   "source": [
    "# 2. Példákra megnézve"
   ]
  },
  {
   "cell_type": "markdown",
   "metadata": {},
   "source": [
    "## Tesztelés a Measure and Conqer algoritmus példájára"
   ]
  },
  {
   "cell_type": "code",
   "execution_count": 46,
   "metadata": {},
   "outputs": [],
   "source": [
    "mparameters=[2,0,0.6,0.7,0.8,0.9,1,1,0,0.6,0.7,0.8,0.9,1]\n",
    "names=[\"λ\",\"a1\",\"a2\",\"a3\",\"a4\",\"a5\",\"a6\",\"a7\",\"b1\",\"b2\",\"b3\",\"b4\",\"b5\",\"b6\"]"
   ]
  },
  {
   "cell_type": "code",
   "execution_count": 47,
   "metadata": {},
   "outputs": [],
   "source": [
    "def generate_distributions(n):\n",
    "    result = []    \n",
    "    def backtrack(current, remaining, index):\n",
    "        if index == 6:\n",
    "            if remaining == 0:\n",
    "                result.append(current.copy())\n",
    "            return\n",
    "        \n",
    "        for i in range(remaining + 1):\n",
    "            current[index] = i\n",
    "            backtrack(current, remaining - i, index + 1)\n",
    "            current[index] = 0  # visszaállítjuk, hogy más elosztást is megnézzünk\n",
    "    \n",
    "    backtrack([0]*6, n, 0)\n",
    "    return result"
   ]
  },
  {
   "cell_type": "code",
   "execution_count": 48,
   "metadata": {},
   "outputs": [],
   "source": [
    "def deltak(s,r,par):\n",
    "    if(r==0):\n",
    "        return 0\n",
    "    elif(r==1):\n",
    "        return par[9]+par[2]\n",
    "    elif(r==2):\n",
    "        return par[9]+min(2*par[2],par[3])\n",
    "    elif(r==3 and s==3):\n",
    "        return par[9]+min(3*par[2],par[2]+par[3])\n",
    "    else:\n",
    "        return par[9]+min(3*par[2],par[2]+par[3],par[4])"
   ]
  },
  {
   "cell_type": "code",
   "execution_count": 49,
   "metadata": {},
   "outputs": [],
   "source": [
    "def checking(par):\n",
    "    for s in range(3,8):\n",
    "        distributions = generate_distributions(s)\n",
    "        for dist in distributions:\n",
    "            summ1=0\n",
    "            summ2=0\n",
    "            summ3=0\n",
    "            for i in range(2,7):\n",
    "                summ1+=dist[i-2]*(par[i+7]-par[i+6]) # r_i*deltaBeta_i\n",
    "                summ2+=dist[i-2]*(par[i+7]) # r_i*Beta_i\n",
    "                summ3+=(i-1)*dist[i-2]\n",
    "            if (par[0]**-(par[s]+summ1+deltak(s,dist[0],par))+par[0]**-(par[s]+summ2+dist[5]+(par[s]-par[s-1])*(summ3+6*dist[5])) >1): return False\n",
    "    return True"
   ]
  },
  {
   "cell_type": "code",
   "execution_count": 50,
   "metadata": {},
   "outputs": [
    {
     "data": {
      "text/plain": [
       "True"
      ]
     },
     "execution_count": 50,
     "metadata": {},
     "output_type": "execute_result"
    }
   ],
   "source": [
    "checking(mparameters)"
   ]
  },
  {
   "cell_type": "code",
   "execution_count": 51,
   "metadata": {},
   "outputs": [],
   "source": [
    "def perturbM(parameters, d,balance):\n",
    "  outp=parameters.copy()\n",
    "  outp[0]=parameters[0]+np.random.uniform(-d,0) # x-et külön kezeljük\n",
    "  difference=[]\n",
    "  cnt=0\n",
    "  for i in range(2,6):\n",
    "    modify1=np.random.normal(balance[cnt],1)\n",
    "    modify2=np.random.normal(balance[cnt],1)\n",
    "    diff=np.random.uniform(-d+modify1*d,d+modify2*d)\n",
    "    outp[i]=parameters[i] + diff\n",
    "    difference.append(diff)\n",
    "    cnt+=1\n",
    "  for i in range(9,13):\n",
    "    modify1=np.random.normal(balance[cnt],1)\n",
    "    modify2=np.random.normal(balance[cnt],1)\n",
    "    diff=np.random.uniform(-d+modify1*d,d+modify2*d)\n",
    "    outp[i]=parameters[i] + diff\n",
    "    difference.append(diff)\n",
    "    cnt+=1\n",
    "  return [outp,difference]"
   ]
  },
  {
   "cell_type": "code",
   "execution_count": 52,
   "metadata": {},
   "outputs": [],
   "source": [
    "def cheM(temp):\n",
    "    return(0<temp[2] and temp[2]<=temp[3] and temp[3]<=temp[4] and temp[4]<=temp[5] and temp[5]<temp[6]\n",
    "        and 0<temp[9] and temp[9]<=temp[10] and temp[10]<=temp[11] and temp[11]<=temp[12] and temp[12]<temp[13]\n",
    "        and 2*temp[2]>=temp[3] and 2*temp[3]>=temp[4]+temp[2]and 2*temp[4]>=temp[5]+temp[3]and 2*temp[5]>=temp[6]+temp[4]\n",
    "        and checking(temp))"
   ]
  },
  {
   "cell_type": "code",
   "execution_count": 53,
   "metadata": {},
   "outputs": [],
   "source": [
    "def algorithmM(parameters,perturb,check,balance, d, eps, delta, maxcnt,ifcnt0=True):\n",
    "  outp=parameters.copy()\n",
    "  plot=[]\n",
    "  cnt = 0\n",
    "  while(d>eps):\n",
    "    tempw = perturb(outp, d, balance)\n",
    "    temp=tempw[0]\n",
    "    if (check(temp)):\n",
    "      outp=temp.copy()\n",
    "      plot.append(temp.copy())\n",
    "      balance = [x + y for x, y in zip(balance, tempw[1])]\n",
    "      if(ifcnt0): cnt= 0\n",
    "    else: cnt+=1\n",
    "    if(cnt >= maxcnt): d = d*delta; cnt = 0\n",
    "  return [outp,plot,balance]"
   ]
  },
  {
   "cell_type": "markdown",
   "metadata": {},
   "source": [
    "#### Ez jó megoldás! 1.235214..."
   ]
  },
  {
   "cell_type": "markdown",
   "metadata": {},
   "source": [
    "## Eredeti Algoritmus vizsgálata"
   ]
  },
  {
   "cell_type": "code",
   "execution_count": 32,
   "metadata": {},
   "outputs": [],
   "source": [
    "oriparameters=[2.2,1,1,1]"
   ]
  },
  {
   "cell_type": "code",
   "execution_count": 33,
   "metadata": {},
   "outputs": [],
   "source": [
    "def cheOri(temp):\n",
    "    return (0<temp[0]<3 and 0<temp[1]< 1 and 0<temp[2] < 1 and 0<temp[3] < 1 \n",
    "      and temp[1] > temp[2] and temp[2] > temp[3] and checkOri(temp,e))"
   ]
  },
  {
   "cell_type": "code",
   "execution_count": 34,
   "metadata": {},
   "outputs": [],
   "source": [
    "def algorithmOri(parameters,perturb,CheOri, d, eps, delta, maxcnt,ifcnt0=True):\n",
    "  outp=parameters.copy()\n",
    "  plot=[]\n",
    "  cnt = 0\n",
    "  while(d>eps):\n",
    "    temp = perturb(outp, d)\n",
    "    if (CheOri(temp)):\n",
    "      outp=temp.copy()\n",
    "      plot.append(temp.copy())\n",
    "      if(ifcnt0): cnt= 0\n",
    "    else: cnt+=1\n",
    "    if(cnt >= maxcnt): d = d*delta; cnt = 0\n",
    "  return [outp,plot]"
   ]
  },
  {
   "cell_type": "code",
   "execution_count": 35,
   "metadata": {},
   "outputs": [],
   "source": [
    "e =[0,0,0,0,0,0,0]\n",
    "def checkOri(par,e):\n",
    "  if(par[0]**(-par[1]) + par[0]**(-(3-2*par[1])) > 1): e[0]+=1; return False # Step3 módosítások (f, n) \n",
    "\n",
    "  if(par[0]**(-1) + par[0]**(-(1+par[1]-par[2])) > 1): e[1]+=1; return False # Step3 módosítások (f, n)\n",
    "\n",
    "  if(par[0]**(-1) + par[0]**(-2) + par[0]**(-(2+par[1]-par[2])) > 1) : e[2]+=1;return False # 3.1.\n",
    "\n",
    "  if(par[0]**(-par[3]) + par[0]**(-(par[3]+2*par[2])) > 1): e[3]+=1;return False # alap\n",
    "  if(par[0]**(-par[3]) + par[0]**(-(par[3]+par[2])) + par[0]**(-(par[3]+3*par[2])) > 1): e[4]+=1;return False # alap\n",
    "  if(par[0]**(-par[3]) + par[0]**(-(par[3]+par[2])) + par[0]**(-(par[3]+2*par[2])) + par[0]**(-(par[3]+4*par[2])) > 1): e[5]+=1;return False # alap\n",
    "  if(par[0]**(-par[3]) + par[0]**(-(par[3]+5*min(1-par[1],par[2]-par[3]))) > 1): e[6]+=1;return False # alap\n",
    "  return True"
   ]
  },
  {
   "cell_type": "markdown",
   "metadata": {},
   "source": [
    "#### Ezzel megkaptam a cikk optimális megoldását, pontosan: 1.996631..."
   ]
  },
  {
   "cell_type": "markdown",
   "metadata": {},
   "source": [
    "# 3. Összehasonlítás\n",
    "## 3.1. Saját feladat"
   ]
  },
  {
   "cell_type": "code",
   "execution_count": 31,
   "metadata": {},
   "outputs": [],
   "source": [
    "parameters=[2.5,1,1,1,0,0]\n",
    "names=[\"λ\",\"alpha\",\"beta\",\"gamma\",\"nu\",\"mu\"]\n",
    "d=0.1\n",
    "eps=1e-3\n",
    "delta=0.2\n",
    "maxcnt=1e4\n",
    "balance=[0]*(len(parameters)-1)"
   ]
  },
  {
   "cell_type": "markdown",
   "metadata": {},
   "source": [
    "0. Program"
   ]
  },
  {
   "cell_type": "code",
   "execution_count": 78,
   "metadata": {},
   "outputs": [
    {
     "name": "stdout",
     "output_type": "stream",
     "text": [
      "[0.01, 0.001, 0.1, 1000.0, 2.3338025499045965]\n"
     ]
    }
   ],
   "source": [
    "# Pretunnal\n",
    "bestparam=pretune([0.01,0.1,1],[1e-2,1e-3,1e-4],[0.1,0.2,0.3],[1e3],algorithm11,checkall,perturb1,parameters,True,True)\n",
    "print(bestparam[0])\n",
    "plot00=bestparam[1]"
   ]
  },
  {
   "cell_type": "code",
   "execution_count": 79,
   "metadata": {},
   "outputs": [
    {
     "name": "stdout",
     "output_type": "stream",
     "text": [
      "[2.192267043533862, 0.9968723373452485, 0.9553818319672074, 0.9203648303052735, 0.07517943095763072, 0.07557954925572649]\n"
     ]
    }
   ],
   "source": [
    "# Simán\n",
    "result = iteration(algorithm11,perturb1,checkall,d,eps,delta,1e3,parameters,10,2,False,onlybestplot=True)\n",
    "print(result[0])\n",
    "plot0=result[2]"
   ]
  },
  {
   "cell_type": "markdown",
   "metadata": {},
   "source": [
    "1. Program"
   ]
  },
  {
   "cell_type": "code",
   "execution_count": 80,
   "metadata": {},
   "outputs": [
    {
     "name": "stdout",
     "output_type": "stream",
     "text": [
      "[0.1, 0.0001, 0.2, 1000.0, 1.9959417772082042]\n"
     ]
    }
   ],
   "source": [
    "# Pretunnal\n",
    "bestparam=pretune([0.01,0.1,1],[1e-2,1e-3,1e-4],[0.1,0.2,0.3],[1e3],algorithm12,checkall,perturb2,parameters,True,True)\n",
    "print(bestparam[0])\n",
    "plot10=bestparam[1]"
   ]
  },
  {
   "cell_type": "code",
   "execution_count": 81,
   "metadata": {},
   "outputs": [
    {
     "name": "stdout",
     "output_type": "stream",
     "text": [
      "[1.9962293207652844, 0.9583284784419274, 0.9445630269979212, 0.9023171308850781, 0.008357362036332862, 0.003652187562941247]\n"
     ]
    }
   ],
   "source": [
    "# Simán\n",
    "result = iteration(algorithm12,perturb2,checkall,d,eps,delta,1e3,parameters,10,2,False,onlybestplot=True)\n",
    "print(result[0])\n",
    "plot1=result[2]"
   ]
  },
  {
   "cell_type": "markdown",
   "metadata": {},
   "source": [
    "2. Program"
   ]
  },
  {
   "cell_type": "code",
   "execution_count": 41,
   "metadata": {},
   "outputs": [
    {
     "name": "stdout",
     "output_type": "stream",
     "text": [
      "[1, 0.001, 0.1, 1000.0, 1.9983948486320848]\n"
     ]
    }
   ],
   "source": [
    "# Pretunnal az egyesével randomizálás, ehhez új kezdőérték kell \n",
    "parameters=[2.5,0.99,0.98,0.97,0.001,0]\n",
    "bestparam=pretune([0.01,0.1,1],[1e-2,1e-3,1e-4],[0.1,0.2,0.3],[1e3],algorithm21,checkall,perturbj,parameters,True,True)\n",
    "print(bestparam[0])\n",
    "plot210=bestparam[1]"
   ]
  },
  {
   "cell_type": "code",
   "execution_count": 40,
   "metadata": {},
   "outputs": [
    {
     "name": "stdout",
     "output_type": "stream",
     "text": [
      "[1.9987912959094107, 0.986499760203587, 0.9818724075825825, 0.968457934409675, 0.0017240940297766037, 0.0013425025736984162]\n"
     ]
    }
   ],
   "source": [
    "# Előző simán\n",
    "result=iteration(algorithm21,perturbj,checkall,d,eps,delta,1e3,parameters,10,2,True,onlybestplot=True)\n",
    "print(result[0])\n",
    "plot21=result[2]"
   ]
  },
  {
   "cell_type": "code",
   "execution_count": 42,
   "metadata": {},
   "outputs": [
    {
     "name": "stdout",
     "output_type": "stream",
     "text": [
      "[0.1, 0.0001, 0.3, 1000.0, 1.9958713297492439]\n"
     ]
    }
   ],
   "source": [
    "# Pretunnal a blokkos randomizálás\n",
    "parameters=[2.5,1,1,1,0,0]\n",
    "bestparam=pretune([0.01,0.1,1],[1e-2,1e-3,1e-4],[0.1,0.2,0.3],[1e3],algorithm22,checkall,perturbspecialchanges2,parameters,True,True)\n",
    "print(bestparam[0])\n",
    "plot220=bestparam[1]"
   ]
  },
  {
   "cell_type": "code",
   "execution_count": 43,
   "metadata": {},
   "outputs": [
    {
     "name": "stdout",
     "output_type": "stream",
     "text": [
      "[1.9963000455608841, 0.9592149982166899, 0.946194799124791, 0.904808605990539, 0.003416044782111596, 0.0034140683497353493]\n"
     ]
    }
   ],
   "source": [
    "# Előző simán\n",
    "result=iteration(algorithm22,perturbspecialchanges2,checkall,d,eps,delta,1e3,parameters,10,2,False,onlybestplot=True)\n",
    "print(result[0])\n",
    "plot22=result[2]"
   ]
  },
  {
   "cell_type": "markdown",
   "metadata": {},
   "source": [
    "3. Program"
   ]
  },
  {
   "cell_type": "code",
   "execution_count": 86,
   "metadata": {},
   "outputs": [
    {
     "name": "stdout",
     "output_type": "stream",
     "text": [
      "[2.4, 0.1, 0.0001, 0.2, 1000.0, 1.995883035268594]\n"
     ]
    }
   ],
   "source": [
    "# Pretunnal \n",
    "bestparam=pretunenew([2.4,2.5,2.6],[0.01,0.1,1],[1e-2,1e-3,1e-4],[0.1,0.2,0.3],[1e3],algorithm3,checkall,balance,perturb3,parameters,True,True)\n",
    "print(bestparam[0])\n",
    "plot30=bestparam[1]"
   ]
  },
  {
   "cell_type": "code",
   "execution_count": 87,
   "metadata": {},
   "outputs": [
    {
     "name": "stdout",
     "output_type": "stream",
     "text": [
      "[[1.9964969957133454, 0.9578680912328534, 0.945394655055682, 0.9045211199057642, 0.009215624644487412, 0.0031759541308665827], [1.9964969957133454, 0.9578680912328534, 0.945394655055682, 0.9045211199057642, 0.009215624644487412, 0.0031759541308665827], [[[2.6, 1, 1, 1, 0, 0], [2.5481536816200245, 0.9690436358477436, 0.9384304324118159, 0.9342757779699347, 0.02443103323276484, 0.010333172223768755], [2.4880020852105025, 0.9964215668343765, 0.9786552346422579, 0.9232661597177225, 0.11002197979738462, 0.04622848738234245], [2.444547207501303, 0.9916479794151096, 0.9006157213293025, 0.8734613947386036, 0.16268046590268007, 0.06934174677556225], [2.431597007591886, 0.9734238065768506, 0.8291726861218711, 0.8205615959330789, 0.1569697660188924, 0.12190549207972906], [2.380469616974417, 0.9705081436755671, 0.9096286632233951, 0.7400907966451071, 0.12862457571789626, 0.10837906565492346], [2.358430524007669, 0.9625503387807063, 0.8297862440102997, 0.7758958090313409, 0.14711722413398076, 0.053097946789843406], [2.295398181395795, 0.9224443718140198, 0.8896872981916026, 0.8123990570530618, 0.18540093315780376, 0.13200923539177], [2.2887272970767323, 0.9119889556421437, 0.8938018708268616, 0.8303643499351824, 0.14860621625380993, 0.1353766722648274], [2.204394746189112, 0.860718406831616, 0.8401993241000697, 0.7793185711650795, 0.06891884468783005, 0.12837302053741828], [2.1382065144836737, 0.9415015843232513, 0.8777281964519559, 0.8156957300455308, 0.00837336453910447, 0.07447784218777628], [2.075319460700525, 0.9407201092221971, 0.9364355128230972, 0.8724540778402743, 0.07070861180586546, 0.004757289169647266], [2.055874517531189, 0.9656574386902277, 0.9651676440081174, 0.9118855138797279, 0.042689769122242725, 0.019281038505708753], [2.051999944482276, 0.9696360181127576, 0.9596583382142638, 0.9016072860888953, 0.03495511586749146, 0.03494951334381745], [2.050203825799206, 0.9654625397171629, 0.9511051509148111, 0.9192555283339892, 0.017550404676414808, 0.030058505135976507], [2.0312548468086726, 0.9524723566761183, 0.946800030753948, 0.9044576314554776, 0.02172654273843943, 0.01945857042335923], [2.02570136480701, 0.9461901514781069, 0.9452626131797279, 0.9044525586744608, 0.028250296516199792, 0.011596632501164243], [2.0235694940128632, 0.9470637763995929, 0.9437046219842697, 0.8890135214040129, 0.02856280219853317, 0.0011284395581138001], [2.01915661417655, 0.9423142288115184, 0.9363165467959754, 0.8856202902418295, 0.03800276747644336, 0.009773526116099569], [2.016683576445206, 0.9495537589415747, 0.9448701747465028, 0.8997021212925563, 0.02919119886112411, 0.010362870585686416], [2.015065808862364, 0.9474930505380256, 0.9445552898777877, 0.8897420244716024, 0.01398182062191316, 0.0009435839275301339], [2.0096697261924694, 0.9550098996965338, 0.9398484247535653, 0.8963765776762054, 0.003418457732285614, 0.006757525943940992], [2.009556977269834, 0.9557879562972292, 0.9386239087903466, 0.8922851226670251, 0.008353879155606068, 0.006172602918431781], [2.00936566533993, 0.9549763647364198, 0.9379790508586222, 0.8913782521670074, 0.005179845525032506, 0.00967898000972079], [2.0093339874985334, 0.9543464888720314, 0.9367376186438408, 0.8944789347457331, 0.0033595033521624795, 0.009708504479935475], [2.007758017821788, 0.9507401574131386, 0.9393268813369439, 0.8952109475215947, 0.006554741567268231, 0.008723265277622426], [2.007255384944436, 0.9481832302547005, 0.9385794816272416, 0.8974492177845861, 0.00889692794996658, 0.007665595305205217], [2.005195994747568, 0.948306373252489, 0.9394723193269665, 0.89512762921439, 0.0083227495443873, 0.005904761548896097], [2.002204230533233, 0.9497700792566617, 0.9430341169983963, 0.8978831898250157, 0.005044531282759999, 0.0030864470508431387], [2.001795874153044, 0.9535164988717971, 0.9449893719443059, 0.8970473124782073, 0.00497196078018745, 0.00012034532389795013], [1.9980809494236949, 0.9521706672667697, 0.9439802398574428, 0.9004443511061466, 0.00811136253933279, 0.0002412274883381452], [1.998018746586888, 0.9555700386312068, 0.9471948384573581, 0.8990527208268038, 0.008533793743064486, 0.001221393226191355], [1.9976453681864361, 0.957680136054255, 0.9439866947373297, 0.9026519212575173, 0.007128091759852011, 0.003556454873336201], [1.9975653286345862, 0.9581531770929163, 0.9450164874174182, 0.9048349200858132, 0.004567501111752569, 0.0038085022962466436], [1.997373891419433, 0.9570287376329881, 0.9459731456899527, 0.9047493049029771, 0.005332598523743422, 0.0023370654375537052], [1.9973370655735214, 0.9600174027583637, 0.9475998706600361, 0.907943277176342, 0.009099480925328415, 0.0025052832720746836], [1.9970753668224732, 0.9591372411435382, 0.9468669967207018, 0.9056423845728602, 0.006408394534096336, 0.0005179025807951656], [1.9967406069913247, 0.9588473986143007, 0.9459110610050262, 0.9046240952850817, 0.005487925731337016, 0.0033401220935888438], [1.9964969957133454, 0.9578680912328534, 0.945394655055682, 0.9045211199057642, 0.009215624644487412, 0.0031759541308665827]]]]\n"
     ]
    }
   ],
   "source": [
    "# Simán\n",
    "result=iterationnew(algorithm3,perturb3,checkall,balance,d,eps,delta,1e3,parameters,10,2,False,onlybestplot=True)\n",
    "print(result)\n",
    "plot3=result[2]"
   ]
  },
  {
   "cell_type": "markdown",
   "metadata": {},
   "source": [
    "Plot"
   ]
  },
  {
   "cell_type": "code",
   "execution_count": 97,
   "metadata": {},
   "outputs": [
    {
     "data": {
      "image/png": "[encoded data removed]",
      "text/plain": [
       "<Figure size 640x480 with 1 Axes>"
      ]
     },
     "metadata": {},
     "output_type": "display_data"
    },
    {
     "data": {
      "image/png": "[encoded data removed]",
      "text/plain": [
       "<Figure size 640x480 with 1 Axes>"
      ]
     },
     "metadata": {},
     "output_type": "display_data"
    }
   ],
   "source": [
    "plotfunction(plot0+plot1+plot21+plot22+plot3,hynames=[\"0. Program\",\"1. Program\",\"2. Egyesével\",\"2. Blokkonként\",\"3. Program\"])\n",
    "plotfunction(plot00+plot10+plot210+plot220+plot30,hynames=[\"0. Program\",\"1. Program\",\"2. Egyesével\",\"2. Blokkonként\",\"3. Program\"])"
   ]
  },
  {
   "cell_type": "markdown",
   "metadata": {},
   "source": [
    "## 3.2. Eredeti feladat"
   ]
  },
  {
   "cell_type": "code",
   "execution_count": 97,
   "metadata": {},
   "outputs": [
    {
     "name": "stdout",
     "output_type": "stream",
     "text": [
      "[1.996848388371962, 0.9582408250256962, 0.9444981017794382, 0.9032892975589873]\n"
     ]
    }
   ],
   "source": [
    "balance=[0]*(len(oriparameters)-1)\n",
    "result=iterationnew(algorithm3,perturb3,cheOri,balance,d,eps,delta,maxcnt,oriparameters,1,1,False)\n",
    "print(result[0])"
   ]
  },
  {
   "cell_type": "markdown",
   "metadata": {},
   "source": [
    "## 3.3. M&C"
   ]
  },
  {
   "cell_type": "code",
   "execution_count": 56,
   "metadata": {},
   "outputs": [
    {
     "name": "stdout",
     "output_type": "stream",
     "text": [
      "True\n"
     ]
    }
   ],
   "source": [
    "mparameters=[2,0,0.6,0.7,0.8,0.9,1,1,0,0.6,0.7,0.8,0.9,1]\n",
    "names=[\"λ\",\"a1\",\"a2\",\"a3\",\"a4\",\"a5\",\"a6\",\"a7\",\"b1\",\"b2\",\"b3\",\"b4\",\"b5\",\"b6\"]\n",
    "print(cheM(mparameters))"
   ]
  },
  {
   "cell_type": "code",
   "execution_count": 65,
   "metadata": {},
   "outputs": [
    {
     "name": "stdout",
     "output_type": "stream",
     "text": [
      "[1.2399571759041124, 0, 0.40723336114569014, 0.7949432881074167, 0.922998140059435, 0.98157896100662, 1, 1, 0, 0.3570338129859397, 0.7031305939421196, 0.867593047555449, 0.950898299123036, 1]\n"
     ]
    }
   ],
   "source": [
    "specpars=[0]+list(range(2,6))+list(range(9,13))\n",
    "bestparam=pretune([0.01,0.1,1],[1e-2,1e-3,1e-4],[0.1,0.2,0.3],[1e3],algorithm11,cheM,perturb2,mparameters,ifplot=False,specpars=specpars)\n",
    "result = iteration(algorithm11,perturb2,cheM,bestparam[0],bestparam[1],bestparam[2],1e3,mparameters,10,2,False,onlybestplot=True,specpars=specpars)\n",
    "print(result[0])\n",
    "plot1=result[2]"
   ]
  },
  {
   "cell_type": "code",
   "execution_count": 67,
   "metadata": {},
   "outputs": [
    {
     "name": "stdout",
     "output_type": "stream",
     "text": [
      "[1.243373857391576, 0, 0.39997121271872105, 0.7940209138539325, 0.9325800220617123, 0.9863872347959229, 1, 1, 0, 0.34397593889919, 0.7994622005827653, 0.948150966074048, 0.9895237203943813, 1]\n"
     ]
    }
   ],
   "source": [
    "balance=[0]*(len(mparameters)-1)\n",
    "prerune=pretunenew([2],[0.01,0.1,1],[1e-2,1e-3,1e-4],[0.1,0.2,0.3],[1e3],algorithm3,cheM,balance,perturbM,mparameters,ifplot=False)\n",
    "result=iterationnew(algorithm3,perturbM,cheM,balance,prerune[1],prerune[2],prerune[3],1e3,mparameters,10,2,False,onlybestplot=True)\n",
    "print(result[0])\n",
    "plot3=result[2]"
   ]
  },
  {
   "cell_type": "code",
   "execution_count": 66,
   "metadata": {},
   "outputs": [
    {
     "data": {
      "image/png": "[encoded data removed]",
      "text/plain": [
       "<Figure size 640x480 with 1 Axes>"
      ]
     },
     "metadata": {},
     "output_type": "display_data"
    }
   ],
   "source": [
    "plotfunction(plot1+plot3,hynames=[\"plot1\",\"plot3\"])"
   ]
  },
  {
   "cell_type": "markdown",
   "metadata": {},
   "source": [
    "# Hosszas futtatások"
   ]
  },
  {
   "cell_type": "code",
   "execution_count": 205,
   "metadata": {},
   "outputs": [
    {
     "name": "stdout",
     "output_type": "stream",
     "text": [
      "[1.6180422676517559, 0.9999451515664087, 6.2752503011515536e-06, 3.4597213810010855e-06, 0.3316123370562783, 0.9999969648449504]\n"
     ]
    }
   ],
   "source": [
    "parameters=[2.5,1,1,1,0,0]\n",
    "names=[\"λ\",\"alpha\",\"beta\",\"gamma\",\"nu\",\"mu\"]\n",
    "d=0.1\n",
    "eps=1e-3\n",
    "delta=0.2\n",
    "maxcnt=1e4\n",
    "\n",
    "balance=[0]*(len(parameters)-1)\n",
    "prerune=pretunenew([2.4,2.5,2.6],[0.01,0.1,1],[1e-2,1e-3,1e-4],[0.1,0.2,0.3],[1e3],algorithm3,checkall,balance,perturb3,parameters)\n",
    "mparameters[0]=prerune[0]\n",
    "result=iterationnew(algorithm3,perturb3,checkall,balance,prerune[1],prerune[2],prerune[3],prerune[4],parameters,100,15,False)\n",
    "print(result[0])"
   ]
  },
  {
   "cell_type": "code",
   "execution_count": 203,
   "metadata": {},
   "outputs": [
    {
     "data": {
      "text/plain": [
       "[7075913, 26287654, 11489762, 221, 3568, 395176, 1688359]"
      ]
     },
     "execution_count": 203,
     "metadata": {},
     "output_type": "execute_result"
    }
   ],
   "source": [
    "checkall([1.995839, 0.958218, 0.944115, 0.902332, 0.016377, 0.004020])"
   ]
  },
  {
   "cell_type": "markdown",
   "metadata": {},
   "source": [
    "# 4. Elágazási faktorok"
   ]
  },
  {
   "cell_type": "code",
   "execution_count": 14,
   "metadata": {},
   "outputs": [],
   "source": [
    "def checkone(j):\n",
    "    return lambda temp:(0<=temp[0]<=3 and 0<=temp[1]<= 1 and 0<=temp[2] <= 1 and 0<=temp[3] <= 1 and 1>=temp[4] >= 0 and 1>=temp[5] >= 0 \n",
    "      and temp[1] > temp[2] and temp[2] > temp[3] and branchingFactors(temp,j))\n",
    "def branchingFactors(par,j):\n",
    "  constrs=[(par[0]**(-par[1]+par[4]) + par[0]**(-(3-2*par[1])+par[4]) > 1),\n",
    "  (par[0]**(-1+par[5]) + par[0]**(-(1+par[1]-par[2]-par[5])) > 1),\n",
    "  (par[0]**(-1-par[5]) + par[0]**(-2) + par[0]**(-(2+par[1]-par[2])) > 1),\n",
    "  (par[0]**(-1) + par[0]**(-2-par[5]) + par[0]**(-(2+par[1]-par[2])) > 1),\n",
    "  (par[0]**(-1-par[4]) + par[0]**(-2) + par[0]**(-(2+par[1]-par[2])) > 1),\n",
    "  (par[0]**(-par[3]) + par[0]**(-(par[3]+2*par[2])) > 1),\n",
    "  (par[0]**(-par[3]) + par[0]**(-(par[3]+par[2])) + par[0]**(-(par[3]+3*par[2])) > 1),\n",
    "  (par[0]**(-par[3]) + par[0]**(-(par[3]+par[2])) + par[0]**(-(par[3]+2*par[2])) + par[0]**(-(par[3]+4*par[2])) > 1),\n",
    "  (par[0]**(-par[3]) + par[0]**(-(par[3]+5*min(1-par[1],par[2]-par[3]))) > 1)]\n",
    "  if(constrs[j]): return False\n",
    "  else:return True"
   ]
  },
  {
   "cell_type": "code",
   "execution_count": 28,
   "metadata": {},
   "outputs": [
    {
     "name": "stdout",
     "output_type": "stream",
     "text": [
      "1. elágazási faktor: [1.995641457755375, 0.958218, 0.944115, 0.902332, 0.016377, 0.00402]\n",
      "2. elágazási faktor: [1.9958381634203626, 0.958218, 0.944115, 0.902332, 0.016377, 0.00402]\n",
      "3. elágazási faktor: [1.9949170774341125, 0.958218, 0.944115, 0.902332, 0.016377, 0.00402]\n",
      "4. elágazási faktor: [1.9958365767592334, 0.958218, 0.944115, 0.902332, 0.016377, 0.00402]\n",
      "5. elágazási faktor: [1.9893169954254146, 0.958218, 0.944115, 0.902332, 0.016377, 0.00402]\n",
      "6. elágazási faktor: [1.5161368952290215, 0.958218, 0.944115, 0.902332, 0.016377, 0.00402]\n",
      "7. elágazási faktor: [1.8446117897090724, 0.958218, 0.944115, 0.902332, 0.016377, 0.00402]\n",
      "8. elágazási faktor: [1.9958048720731159, 0.958218, 0.944115, 0.902332, 0.016377, 0.00402]\n",
      "9. elágazási faktor: [1.9958300157519862, 0.958218, 0.944115, 0.902332, 0.016377, 0.00402]\n"
     ]
    }
   ],
   "source": [
    "parameters=[2.5,1,1,1,0,0]\n",
    "names=[\"λ\",\"alpha\",\"beta\",\"gamma\",\"nu\",\"mu\"]\n",
    "d=0.1\n",
    "eps=1e-3\n",
    "delta=0.2\n",
    "maxcnt=1e4\n",
    "parameters=[1.995839, 0.958218, 0.944115, 0.902332, 0.016377, 0.004020]\n",
    "\n",
    "balance=[0]*(len(parameters)-1)\n",
    "for j in range(9):\n",
    "    prerune=pretunenew([1.995839],[0.01,0.1,1],[1e-2,1e-3,1e-4],[0.1,0.2,0.3],[1e3],algorithm3,checkone(j),balance,perturb3,parameters)\n",
    "    parameters[0]=prerune[0]\n",
    "    result=iterationnew(algorithm3,perturb3,checkone(j),balance,prerune[1],prerune[2],prerune[3],prerune[4],parameters,10,2,False)\n",
    "    print(f\"{j+1}. elágazási faktor: {result[0]}\")"
   ]
  }
 ],
 "metadata": {
  "kernelspec": {
   "display_name": "base",
   "language": "python",
   "name": "python3"
  },
  "language_info": {
   "codemirror_mode": {
    "name": "ipython",
    "version": 3
   },
   "file_extension": ".py",
   "mimetype": "text/x-python",
   "name": "python",
   "nbconvert_exporter": "python",
   "pygments_lexer": "ipython3",
   "version": "3.11.5"
  }
 },
 "nbformat": 4,
 "nbformat_minor": 2
}
